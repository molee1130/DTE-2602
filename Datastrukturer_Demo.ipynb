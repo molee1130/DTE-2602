{
 "cells": [
  {
   "cell_type": "markdown",
   "metadata": {},
   "source": [
    "# Datastrukturer - demo\n",
    "\n",
    "Denne notebook'en er ment som en demonstrasjon for å vise hvordan ulike datastrukturer fungerer i praksis. Den er basert på en ferdig løsning av innlevering 2. Vi importerer modulen fra fila data_structures.py, og gir den et litt kortere navn:"
   ]
  },
  {
   "cell_type": "code",
   "execution_count": 1,
   "metadata": {},
   "outputs": [
    {
     "data": {
      "text/plain": [
       "['Any',\n",
       " 'BinarySearchTree',\n",
       " 'EmergencyRoomQueue',\n",
       " 'Node',\n",
       " 'Queue',\n",
       " 'Stack',\n",
       " '__builtins__',\n",
       " '__cached__',\n",
       " '__doc__',\n",
       " '__file__',\n",
       " '__loader__',\n",
       " '__name__',\n",
       " '__package__',\n",
       " '__spec__',\n",
       " 'annotations',\n",
       " 'binarytree',\n",
       " 'heapdict',\n",
       " 'warnings']"
      ]
     },
     "execution_count": 1,
     "metadata": {},
     "output_type": "execute_result"
    }
   ],
   "source": [
    "import data_structures as ds\n",
    "\n",
    "dir(ds)  # Show module contents"
   ]
  },
  {
   "cell_type": "markdown",
   "metadata": {},
   "source": [
    "Vi kan se at modulen inneholder flere klasser (\"BinarySearchTree\" osv.), noen såkalte \"dunder-metoder\" som automatisk genereres for modulen (__builtins__ etc.), og til slutt noen moduler som importeres av hovedmodulen (\"binarytree\" osv.)\n",
    "\n",
    "## Node\n",
    "Node-objektet er ferdig implementert i basis-koden dere får utdelt, men vi kan likevel ta en kikk:"
   ]
  },
  {
   "cell_type": "code",
   "execution_count": 2,
   "metadata": {},
   "outputs": [
    {
     "name": "stdout",
     "output_type": "stream",
     "text": [
      "Node 1 har verdi 5\n",
      "Node 2 har verdi 7\n"
     ]
    }
   ],
   "source": [
    "node1 = ds.Node(data=5)\n",
    "node2 = ds.Node(data=7)\n",
    "print(f\"Node 1 har verdi {node1.data}\")\n",
    "print(f\"Node 2 har verdi {node2.data}\")"
   ]
  },
  {
   "cell_type": "code",
   "execution_count": 3,
   "metadata": {},
   "outputs": [
    {
     "name": "stdout",
     "output_type": "stream",
     "text": [
      "Node 1 peker først på None\n",
      "Node 1 peker på node 2, som har verdi 7\n"
     ]
    }
   ],
   "source": [
    "print(f\"Node 1 peker først på {node1.next}\")\n",
    "node1.next = node2\n",
    "print(f\"Node 1 peker på node 2, som har verdi {node1.next.data}\")"
   ]
  },
  {
   "cell_type": "markdown",
   "metadata": {},
   "source": [
    "## Stack"
   ]
  },
  {
   "cell_type": "code",
   "execution_count": 4,
   "metadata": {},
   "outputs": [
    {
     "name": "stdout",
     "output_type": "stream",
     "text": [
      "Øverste element i stacken har verdi c\n",
      "Dette kan vi også sjekke ved å bruke peek(): c\n"
     ]
    }
   ],
   "source": [
    "# Push\n",
    "stack = ds.Stack()\n",
    "stack.push(\"a\")\n",
    "stack.push(\"b\")\n",
    "stack.push(\"c\")\n",
    "print(f\"Øverste element i stacken har verdi {stack.head.data}\")\n",
    "print(f\"Dette kan vi også sjekke ved å bruke peek(): {stack.peek()}\")"
   ]
  },
  {
   "cell_type": "code",
   "execution_count": 5,
   "metadata": {},
   "outputs": [
    {
     "name": "stdout",
     "output_type": "stream",
     "text": [
      "En pop-operasjon returnerer det øverste elementet: c\n",
      "Det øverste elementet i stacken er nå b\n",
      "Vi popper neste element: b\n",
      "... og neste element: a\n",
      "Å poppe fra en tom stack gir IndexError\n"
     ]
    }
   ],
   "source": [
    "# Pop\n",
    "print(f\"En pop-operasjon returnerer det øverste elementet: {stack.pop()}\")\n",
    "print(f\"Det øverste elementet i stacken er nå {stack.peek()}\")\n",
    "print(f\"Vi popper neste element: {stack.pop()}\")\n",
    "print(f\"... og neste element: {stack.pop()}\")\n",
    "try:\n",
    "    stack.pop()\n",
    "except IndexError:\n",
    "    print(\"Å poppe fra en tom stack gir IndexError\")"
   ]
  },
  {
   "cell_type": "markdown",
   "metadata": {},
   "source": [
    "## Kø"
   ]
  },
  {
   "cell_type": "code",
   "execution_count": 6,
   "metadata": {},
   "outputs": [
    {
     "name": "stdout",
     "output_type": "stream",
     "text": [
      "Fremste element i køen er a\n",
      "Dette kan vi også sjekke med peek(): a\n",
      "Bakerste element i køen er c\n"
     ]
    }
   ],
   "source": [
    "# Enqueue\n",
    "queue = ds.Queue()\n",
    "queue.enqueue(\"a\")\n",
    "queue.enqueue(\"b\")\n",
    "queue.enqueue(\"c\")\n",
    "print(f\"Fremste element i køen er {queue.head.data}\")\n",
    "print(f\"Dette kan vi også sjekke med peek(): {queue.peek()}\")\n",
    "print(f\"Bakerste element i køen er {queue.tail.data}\")"
   ]
  },
  {
   "cell_type": "code",
   "execution_count": 7,
   "metadata": {},
   "outputs": [
    {
     "name": "stdout",
     "output_type": "stream",
     "text": [
      "En dequeue-operasjon returnerer fremste element i køen: a\n",
      "Fremste element i køen er nå b\n",
      "Vi henter neste element: b\n",
      "... og neste: c\n",
      "Å hente neste element fra en tom kø gir IndexError\n"
     ]
    }
   ],
   "source": [
    "# Dequeue\n",
    "print(f\"En dequeue-operasjon returnerer fremste element i køen: {queue.dequeue()}\")\n",
    "print(f\"Fremste element i køen er nå {queue.peek()}\")\n",
    "print(f\"Vi henter neste element: {queue.dequeue()}\")\n",
    "print(f\"... og neste: {queue.dequeue()}\")\n",
    "try:\n",
    "    queue.dequeue()\n",
    "except IndexError:\n",
    "    print(\"Å hente neste element fra en tom kø gir IndexError\")\n"
   ]
  },
  {
   "cell_type": "markdown",
   "metadata": {},
   "source": [
    "# Prioritetskø"
   ]
  },
  {
   "cell_type": "code",
   "execution_count": 8,
   "metadata": {},
   "outputs": [
    {
     "name": "stdout",
     "output_type": "stream",
     "text": [
      "The queue now looks like this:\n",
      "Noora:5\n",
      "Jacob:2\n",
      "Kim:6\n"
     ]
    }
   ],
   "source": [
    "# Add patients to queue\n",
    "erq = ds.EmergencyRoomQueue()\n",
    "erq.add_patient_with_priority(\"Noora\", 5)\n",
    "erq.add_patient_with_priority(\"Jacob\", 2)\n",
    "erq.add_patient_with_priority(\"Kim\", 6)\n",
    "print(\"The queue now looks like this:\")\n",
    "for a, b in erq.queue.items():\n",
    "    print(f\"{a}:{b}\")"
   ]
  },
  {
   "cell_type": "code",
   "execution_count": 9,
   "metadata": {},
   "outputs": [
    {
     "name": "stdout",
     "output_type": "stream",
     "text": [
      "We get the patient with the highest priority: Jacob\n",
      "We change Kim's priority to 3\n",
      "We get the next patients:\n",
      "Kim\n",
      "Noora\n"
     ]
    }
   ],
   "source": [
    "# \"Pop\" patients and update priority\n",
    "print(f\"We get the patient with the highest priority: {erq.get_next_patient()}\")\n",
    "print(\"We change Kim's priority to 3\")\n",
    "erq.update_patient_priority(\"Kim\", 3)\n",
    "print(f\"We get the next patients:\")\n",
    "print(f\"{erq.get_next_patient()}\")\n",
    "print(f\"{erq.get_next_patient()}\")"
   ]
  },
  {
   "cell_type": "markdown",
   "metadata": {},
   "source": [
    "# Binært søketre"
   ]
  },
  {
   "cell_type": "code",
   "execution_count": 10,
   "metadata": {},
   "outputs": [
    {
     "name": "stdout",
     "output_type": "stream",
     "text": [
      "I et tomt tre er rota satt til None\n"
     ]
    }
   ],
   "source": [
    "bst = ds.BinarySearchTree()\n",
    "print(f\"I et tomt tre er rota satt til {bst.root}\")"
   ]
  },
  {
   "cell_type": "code",
   "execution_count": 11,
   "metadata": {},
   "outputs": [
    {
     "name": "stdout",
     "output_type": "stream",
     "text": [
      "Siden treet er bygd med binarytree.Node-objekt, er det enkelt å visualisere\n",
      "\n",
      "    __8__\n",
      "   /     \\\n",
      "  5       10\n",
      " / \\     /\n",
      "3   7   9\n",
      "\n"
     ]
    }
   ],
   "source": [
    "for num in [8, 5, 3, 7, 10, 9]:\n",
    "    bst.insert(num)\n",
    "print(\"Siden treet er bygd med binarytree.Node-objekt, er det enkelt å visualisere\")\n",
    "print(bst)\n"
   ]
  },
  {
   "cell_type": "code",
   "execution_count": 12,
   "metadata": {},
   "outputs": [
    {
     "name": "stderr",
     "output_type": "stream",
     "text": [
      "c:\\Users\\mha114\\Dropbox\\Python\\intro-ml-ai\\github\\assignments-dev\\ng2_data_structures\\data_structures_solution.py:161: UserWarning: Value already exists in tree (duplicate)\n",
      "  warnings.warn(\"Value already exists in tree (duplicate)\")\n"
     ]
    }
   ],
   "source": [
    "# Duplikat\n",
    "bst.insert(7)"
   ]
  }
 ],
 "metadata": {
  "kernelspec": {
   "display_name": "intro-ml-ai",
   "language": "python",
   "name": "python3"
  },
  "language_info": {
   "codemirror_mode": {
    "name": "ipython",
    "version": 3
   },
   "file_extension": ".py",
   "mimetype": "text/x-python",
   "name": "python",
   "nbconvert_exporter": "python",
   "pygments_lexer": "ipython3",
   "version": "3.10.12"
  },
  "orig_nbformat": 4
 },
 "nbformat": 4,
 "nbformat_minor": 2
}
